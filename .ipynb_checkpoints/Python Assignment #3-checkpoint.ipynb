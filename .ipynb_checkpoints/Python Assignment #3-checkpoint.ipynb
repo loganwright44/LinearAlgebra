{
 "cells": [
  {
   "cell_type": "markdown",
   "id": "0afabdee",
   "metadata": {},
   "source": [
    "Logan Wright\n",
    "\n",
    "Brother Sinkovic\n",
    "\n",
    "# Python Assignment 3\n",
    "\n",
    "# Part I\n",
    "\n",
    "## Question 1\n",
    "\n",
    "I compute $Q^TQ$ to show that $Q$ is orthonormal."
   ]
  },
  {
   "cell_type": "code",
   "execution_count": 9,
   "id": "97e9840d",
   "metadata": {},
   "outputs": [
    {
     "name": "stdout",
     "output_type": "stream",
     "text": [
      "[[1. 0. 0.]\n",
      " [0. 1. 0.]\n",
      " [0. 0. 1.]]Intel MKL WARNING: Support of Intel(R) Streaming SIMD Extensions 4.2 (Intel(R) SSE4.2) enabled only processors has been deprecated. Intel oneAPI Math Kernel Library 2025.0 will require Intel(R) Advanced Vector Extensions (Intel(R) AVX) instructions.\n",
      "\n"
     ]
    }
   ],
   "source": [
    "from numpy import array, matmul\n",
    "from numpy.linalg import qr\n",
    "\n",
    "# Define the matrix A\n",
    "A = array([[-10, 13, 7], [2, 1, -5], [-6, 3, 13], [2, 1, -5]], dtype = float)\n",
    "\n",
    "# Build the qr matrices from A\n",
    "Q, R = qr(A)\n",
    "\n",
    "# Multiply the transposed matrix by the untransposed matrix Q\n",
    "B = matmul(Q.transpose(), Q)\n",
    "B[abs(B) < 1e-12] = 0.0\n",
    "\n",
    "# Print out B where all small values become 0 to eliminate the computer error\n",
    "print(B)"
   ]
  },
  {
   "cell_type": "markdown",
   "id": "baa86ede",
   "metadata": {},
   "source": [
    "## Question 2\n",
    "\n",
    "Now, we do the same thing again but in the opposite order as in $Q Q^T$."
   ]
  },
  {
   "cell_type": "code",
   "execution_count": 10,
   "id": "71fa29c9",
   "metadata": {},
   "outputs": [
    {
     "name": "stdout",
     "output_type": "stream",
     "text": [
      "Intel MKL WARNING: Support of Intel(R) Streaming SIMD Extensions 4.2 (Intel(R) SSE4.2) enabled only processors has been deprecated. Intel oneAPI Math Kernel Library 2025.0 will require Intel(R) Advanced Vector Extensions (Intel(R) AVX) instructions.\n",
      "[[1.  0.  0.  0. ]\n",
      " [0.  0.5 0.  0.5]\n",
      " [0.  0.  1.  0. ]\n",
      " [0.  0.5 0.  0.5]]\n"
     ]
    }
   ],
   "source": [
    "# Multiply the untransposed matrix by the transposed matrix Q\n",
    "B = matmul(Q, Q.transpose())\n",
    "B[abs(B) < 1e-12] = 0.0\n",
    "\n",
    "# Print out B where all small values become 0 to eliminate the computer error\n",
    "print(B)"
   ]
  },
  {
   "cell_type": "markdown",
   "id": "04288199",
   "metadata": {},
   "source": [
    "## Question 3\n",
    "\n",
    "Now, I will use an iterative method to solve for the eigenvalues of a matrix, $A$, by using $Q R$ factorization over 100 steps to force $A_n$ to become a triangular matrix where, simply, its eigenvalues are the diagonal entries. The process looks like\n",
    "\n",
    "$$A_n = Q_{n - 1}^T A_{n - 1} Q_{n - 1}$$\n",
    "\n",
    "And this repeats 100 times."
   ]
  },
  {
   "cell_type": "code",
   "execution_count": 12,
   "id": "f4e8dbb1",
   "metadata": {},
   "outputs": [
    {
     "name": "stdout",
     "output_type": "stream",
     "text": [
      "[[ 1.13437569e+01 -6.40729937e+00  8.98940335e+00]\n",
      " [ 5.82899411e-10 -8.78821488e+00  1.52360475e+01]\n",
      " [ 0.00000000e+00  0.00000000e+00  1.44445799e+00]]\n"
     ]
    }
   ],
   "source": [
    "# Build a function to do the qr factorization and return a new matrix A_n\n",
    "def EigenValues(A):\n",
    "    Q, _ = qr(A)\n",
    "    A = matmul(Q.transpose(), matmul(A, Q))\n",
    "    return A\n",
    "\n",
    "# Define the matrix A for operation\n",
    "A = array([[-10, 13, 7], [2, 1, -5], [-6, 3, 13]], dtype = float)\n",
    "\n",
    "# Iterate over 100 steps to converge to eigenvalues\n",
    "for _ in range(1, 101):\n",
    "    A = EigenValues(A)\n",
    "\n",
    "A[abs(A) < 1e-12] = 0.0\n",
    "\n",
    "print(A)"
   ]
  },
  {
   "cell_type": "markdown",
   "id": "bfb3d613",
   "metadata": {},
   "source": [
    "## Question 4\n",
    "\n",
    "According to the convergence of the matrix, $A$, I see that the eigenvalues are approximately\n",
    "\n",
    "$$\\lambda = 11.3438, -8.78821, 1.44446$$\n",
    "\n",
    "# Part II\n",
    "\n",
    "## Question 5\n",
    "\n",
    "Now, I will use the NumPy function, eig, to find the more accurate eigenvalues from the same original matrix as above $A$."
   ]
  },
  {
   "cell_type": "code",
   "execution_count": 13,
   "id": "b565edd1",
   "metadata": {},
   "outputs": [
    {
     "name": "stdout",
     "output_type": "stream",
     "text": [
      "[-8.78821488 11.34375689  1.44445799]\n"
     ]
    }
   ],
   "source": [
    "from numpy.linalg import eig\n",
    "\n",
    "# Redefine the matrix A for operation since the last one was overwritten\n",
    "A = array([[-10, 13, 7], [2, 1, -5], [-6, 3, 13]], dtype = float)\n",
    "\n",
    "E, P = eig(A)\n",
    "\n",
    "print(E)"
   ]
  },
  {
   "cell_type": "markdown",
   "id": "1034be32",
   "metadata": {},
   "source": [
    "# Part III\n",
    "\n",
    "## Question 6\n",
    "\n",
    "I will create an orthonormal matrix, $U$, which agrees on the span of $H$ which was given in the assignment document. To generate the orthonormal columns of $U$, all that I will have to do is take the dot product between each column vector and divide each entry in the corresponding column by the square root of the sum of the squares (the dot product). In mathematical notation,\n",
    "\n",
    "$$U = \\left[\\frac{\\vec{v_1}}{||\\vec{v_1}||}, \\frac{\\vec{v_2}}{||\\vec{v_2}||}, \\frac{\\vec{v_3}}{||\\vec{v_3}||} \\right]$$\n",
    "\n",
    "$$H = \\text{Span } \\{U\\}$$\n",
    "\n",
    "After finding the orthonormal projection matrix, $P = U U^T$, I will project the vector $\\vec{y}$ onto $\\text{Col } H$."
   ]
  },
  {
   "cell_type": "code",
   "execution_count": 22,
   "id": "1e39f994",
   "metadata": {},
   "outputs": [
    {
     "name": "stdout",
     "output_type": "stream",
     "text": [
      "The new matrix U is orthonormal as demonstrated below.\n",
      "\n",
      "[[ 0.5  0.5  0. ]\n",
      " [ 0.5 -0.5  0. ]\n",
      " [ 0.   0.5  0.5]\n",
      " [ 0.  -0.5  0.5]\n",
      " [ 0.5  0.   0.5]\n",
      " [ 0.5  0.  -0.5]]\n"
     ]
    }
   ],
   "source": [
    "from numpy import sum, sqrt\n",
    "\n",
    "# Define U as the matrix with columns v1, v2, v3\n",
    "U = array([[1, 1, 0], [1, -1, 0], [0, 1, 1], [0, -1, 1], [1, 0, 1], [1, 0, -1]], dtype = float)\n",
    "\n",
    "# Divide magnitudes from the column vectors to make orthonormal\n",
    "for i in range(len(U[0])):\n",
    "    U[:, i] /= sqrt(sum(U[:, i] * U[:, i]))\n",
    "    \n",
    "print(\"The new matrix U is orthonormal as demonstrated below.\\n\")\n",
    "print(U)"
   ]
  },
  {
   "cell_type": "code",
   "execution_count": 23,
   "id": "99777fc4",
   "metadata": {},
   "outputs": [
    {
     "name": "stdout",
     "output_type": "stream",
     "text": [
      "Intel MKL WARNING: Support of Intel(R) Streaming SIMD Extensions 4.2 (Intel(R) SSE4.2) enabled only processors has been deprecated. Intel oneAPI Math Kernel Library 2025.0 will require Intel(R) Advanced Vector Extensions (Intel(R) AVX) instructions.\n",
      "[[ 0.5   0.    0.25 -0.25  0.25  0.25]\n",
      " [ 0.    0.5  -0.25  0.25  0.25  0.25]\n",
      " [ 0.25 -0.25  0.5   0.    0.25 -0.25]\n",
      " [-0.25  0.25  0.    0.5   0.25 -0.25]\n",
      " [ 0.25  0.25  0.25  0.25  0.5   0.  ]\n",
      " [ 0.25  0.25 -0.25 -0.25  0.    0.5 ]]\n"
     ]
    }
   ],
   "source": [
    "# Define the new matrix P\n",
    "P = matmul(U, U.transpose())\n",
    "\n",
    "print(P)"
   ]
  },
  {
   "cell_type": "code",
   "execution_count": 1,
   "id": "d61a14e0",
   "metadata": {},
   "outputs": [
    {
     "ename": "NameError",
     "evalue": "name 'array' is not defined",
     "output_type": "error",
     "traceback": [
      "\u001b[0;31m---------------------------------------------------------------------------\u001b[0m",
      "\u001b[0;31mNameError\u001b[0m                                 Traceback (most recent call last)",
      "\u001b[0;32m/var/folders/wt/m3rtv90d1xvfs20h6qn_kfjc0000gn/T/ipykernel_4758/2265336919.py\u001b[0m in \u001b[0;36m<module>\u001b[0;34m\u001b[0m\n\u001b[1;32m      1\u001b[0m \u001b[0;31m# Create the vector y\u001b[0m\u001b[0;34m\u001b[0m\u001b[0;34m\u001b[0m\u001b[0m\n\u001b[0;32m----> 2\u001b[0;31m \u001b[0my\u001b[0m \u001b[0;34m=\u001b[0m \u001b[0marray\u001b[0m\u001b[0;34m(\u001b[0m\u001b[0;34m[\u001b[0m\u001b[0;34m[\u001b[0m\u001b[0;36m10\u001b[0m\u001b[0;34m]\u001b[0m\u001b[0;34m,\u001b[0m \u001b[0;34m[\u001b[0m\u001b[0;36m5\u001b[0m\u001b[0;34m]\u001b[0m\u001b[0;34m,\u001b[0m \u001b[0;34m[\u001b[0m\u001b[0;36m9\u001b[0m\u001b[0;34m]\u001b[0m\u001b[0;34m,\u001b[0m \u001b[0;34m[\u001b[0m\u001b[0;34m-\u001b[0m\u001b[0;36m1\u001b[0m\u001b[0;34m]\u001b[0m\u001b[0;34m,\u001b[0m \u001b[0;34m[\u001b[0m\u001b[0;36m4\u001b[0m\u001b[0;34m]\u001b[0m\u001b[0;34m,\u001b[0m \u001b[0;34m[\u001b[0m\u001b[0;36m3\u001b[0m\u001b[0;34m]\u001b[0m\u001b[0;34m]\u001b[0m\u001b[0;34m,\u001b[0m \u001b[0mdtype\u001b[0m \u001b[0;34m=\u001b[0m \u001b[0mfloat\u001b[0m\u001b[0;34m)\u001b[0m\u001b[0;34m\u001b[0m\u001b[0;34m\u001b[0m\u001b[0m\n\u001b[0m\u001b[1;32m      3\u001b[0m \u001b[0;34m\u001b[0m\u001b[0m\n\u001b[1;32m      4\u001b[0m \u001b[0;31m# Project y onto H\u001b[0m\u001b[0;34m\u001b[0m\u001b[0;34m\u001b[0m\u001b[0m\n\u001b[1;32m      5\u001b[0m \u001b[0mprojH_y\u001b[0m \u001b[0;34m=\u001b[0m \u001b[0mmatmul\u001b[0m\u001b[0;34m(\u001b[0m\u001b[0mP\u001b[0m\u001b[0;34m,\u001b[0m \u001b[0my\u001b[0m\u001b[0;34m)\u001b[0m\u001b[0;34m\u001b[0m\u001b[0;34m\u001b[0m\u001b[0m\n",
      "\u001b[0;31mNameError\u001b[0m: name 'array' is not defined"
     ]
    }
   ],
   "source": [
    "# Create the vector y\n",
    "y = array([[10], [5], [9], [-1], [4], [3]], dtype = float)\n",
    "\n",
    "# Project y onto H\n",
    "projH_y = matmul(P, y)\n",
    "\n",
    "print(\"The projection of y onto H\\n\")\n",
    "print(projH_y)"
   ]
  },
  {
   "cell_type": "code",
   "execution_count": 22,
   "id": "835adffb",
   "metadata": {},
   "outputs": [
    {
     "name": "stdout",
     "output_type": "stream",
     "text": [
      "0.732399\n"
     ]
    }
   ],
   "source": [
    "from math import pi, sqrt\n",
    "h = 6.626e-34\n",
    "m = 9.11e-31\n",
    "n = 1\n",
    "λ = 590e-9\n",
    "c = 3e8\n",
    "\n",
    "# hc/λ = h^2n^2 / (8mL^2)\n",
    "\n",
    "# L = sqrt(h^2 n^2 λ / (8 m h c))\n",
    "# L = n * sqrt(h * λ / (8 * m * c))\n",
    "E = h * c / λ\n",
    "L = sqrt(3 * h * λ / (8 * c * m))\n",
    "\n",
    "print(f\"{L * 1e9:.6f}\")"
   ]
  },
  {
   "cell_type": "code",
   "execution_count": 27,
   "id": "4eb528ec",
   "metadata": {},
   "outputs": [
    {
     "data": {
      "text/plain": [
       "0.49951604227126256"
      ]
     },
     "execution_count": 27,
     "metadata": {},
     "output_type": "execute_result"
    }
   ],
   "source": [
    "0.37 / (6.626e-34 * 8.95e13) * 1.602e-19 - 0.5"
   ]
  },
  {
   "cell_type": "code",
   "execution_count": 28,
   "id": "641c6581",
   "metadata": {},
   "outputs": [
    {
     "data": {
      "text/plain": [
       "1.2554293487224981e-46"
      ]
     },
     "execution_count": 28,
     "metadata": {},
     "output_type": "execute_result"
    }
   ],
   "source": [
    "h * h / (4.2e11 * h) / 4 / pi"
   ]
  },
  {
   "cell_type": "code",
   "execution_count": 30,
   "id": "e2c648d4",
   "metadata": {},
   "outputs": [
    {
     "data": {
      "text/plain": [
       "0.37017915106117355"
      ]
     },
     "execution_count": 30,
     "metadata": {},
     "output_type": "execute_result"
    }
   ],
   "source": [
    "8.95e13 * 6.626e-34 / 1.602e-19"
   ]
  },
  {
   "cell_type": "code",
   "execution_count": 32,
   "id": "22a253ab",
   "metadata": {},
   "outputs": [
    {
     "data": {
      "text/plain": [
       "3.996155731036489e-47"
      ]
     },
     "execution_count": 32,
     "metadata": {},
     "output_type": "execute_result"
    }
   ],
   "source": [
    "h / 4 / pi / pi / 4.2e11"
   ]
  },
  {
   "cell_type": "code",
   "execution_count": 53,
   "id": "c52e74d5",
   "metadata": {},
   "outputs": [
    {
     "name": "stdout",
     "output_type": "stream",
     "text": [
      "1.3804e-04\n"
     ]
    }
   ],
   "source": [
    "I = 14.6 / 6.02e23 / 1e3 * (0.144e-9) * (0.144e-9)\n",
    "ħ = 6.626e-34 / 2 / pi\n",
    "\n",
    "print(f\"{ħ * ħ / (I) / 1.602e-19:.4e}\")"
   ]
  },
  {
   "cell_type": "code",
   "execution_count": 55,
   "id": "b156630e",
   "metadata": {},
   "outputs": [
    {
     "data": {
      "text/plain": [
       "0.9728054517192302"
      ]
     },
     "execution_count": 55,
     "metadata": {},
     "output_type": "execute_result"
    }
   ],
   "source": [
    "1 / sqrt(1 - 0.135 * 0.135) * 2.38 * 0.135 * 3"
   ]
  },
  {
   "cell_type": "code",
   "execution_count": 70,
   "id": "2aafc4f9",
   "metadata": {},
   "outputs": [
    {
     "data": {
      "text/plain": [
       "6.9421220226834505e-34"
      ]
     },
     "execution_count": 70,
     "metadata": {},
     "output_type": "execute_result"
    }
   ],
   "source": [
    "6.626e-34 / sqrt(2 * 9.11e-31 * 50e9 * 1e-19)"
   ]
  },
  {
   "cell_type": "code",
   "execution_count": 72,
   "id": "d470a06c",
   "metadata": {},
   "outputs": [
    {
     "data": {
      "text/plain": [
       "14193350.595139407"
      ]
     },
     "execution_count": 72,
     "metadata": {},
     "output_type": "execute_result"
    }
   ],
   "source": [
    "1.23e3 / sqrt(50.0e9 * 1.502e-19 * (1 + 9.78e-7))"
   ]
  },
  {
   "cell_type": "code",
   "execution_count": null,
   "id": "adda1359",
   "metadata": {},
   "outputs": [],
   "source": []
  }
 ],
 "metadata": {
  "kernelspec": {
   "display_name": "Python 3 (ipykernel)",
   "language": "python",
   "name": "python3"
  },
  "language_info": {
   "codemirror_mode": {
    "name": "ipython",
    "version": 3
   },
   "file_extension": ".py",
   "mimetype": "text/x-python",
   "name": "python",
   "nbconvert_exporter": "python",
   "pygments_lexer": "ipython3",
   "version": "3.10.11"
  }
 },
 "nbformat": 4,
 "nbformat_minor": 5
}
