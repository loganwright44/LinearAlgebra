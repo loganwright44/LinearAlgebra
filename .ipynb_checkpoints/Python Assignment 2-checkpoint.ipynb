{
 "cells": [
  {
   "cell_type": "markdown",
   "id": "b63ffc9f",
   "metadata": {},
   "source": [
    "Logan Wright\n",
    "\n",
    "Brother Sinkovic\n",
    "\n",
    "# Python Assignment #2\n",
    "\n",
    "## Using the 'for' Loop\n",
    "\n",
    "### Q1:\n",
    "\n",
    "I will demonstrate some of the basic uses of for loops to, first, print out all odd integers in a sequence between 5 and 17."
   ]
  },
  {
   "cell_type": "code",
   "execution_count": 3,
   "id": "bd289145",
   "metadata": {},
   "outputs": [
    {
     "name": "stdout",
     "output_type": "stream",
     "text": [
      "[5, 7, 9, 11, 13, 15, 17]\n"
     ]
    }
   ],
   "source": [
    "# Print all odd numbers between 5 and 17\n",
    "odds = []\n",
    "\n",
    "for i in range(5, 19, 2):\n",
    "    odds.append(i)\n",
    "    \n",
    "print(odds)"
   ]
  },
  {
   "cell_type": "markdown",
   "id": "5da76efa",
   "metadata": {},
   "source": [
    "### Q2:\n",
    "\n",
    "I will add up all of the even integers between 2 and 1000."
   ]
  },
  {
   "cell_type": "code",
   "execution_count": 56,
   "id": "bd3434af",
   "metadata": {},
   "outputs": [
    {
     "name": "stdout",
     "output_type": "stream",
     "text": [
      "Sum of even integers between 2 and 1000, inclusive: 250500.0\n"
     ]
    }
   ],
   "source": [
    "# Sum the even integers between 2 and 1000 using the range function\n",
    "sum = 0.0\n",
    "\n",
    "for value in list(range(2, 1002, 2)):\n",
    "    sum += value\n",
    "    \n",
    "print(f\"Sum of even integers between 2 and 1000, inclusive: {sum}\")"
   ]
  },
  {
   "cell_type": "markdown",
   "id": "8bdda9f7",
   "metadata": {},
   "source": [
    "### Q3:\n",
    "\n",
    "A matrix, M, to be regular means that all entries must be greater than 0.0. I will find to what degree of power a matrix, M, must be raised to in order to show that M is normal as well as print out the power, $k$, to which the matrix is raised to in order to become regular."
   ]
  },
  {
   "cell_type": "code",
   "execution_count": 79,
   "id": "c63cfa1c",
   "metadata": {},
   "outputs": [
    {
     "name": "stdout",
     "output_type": "stream",
     "text": [
      "M is regular when k = 6\n",
      "M is regular when k = 7\n",
      "M is regular when k = 8\n",
      "M is regular when k = 9\n"
     ]
    }
   ],
   "source": [
    "# Compute minimum values of k for matrix exponent to show that M is normal and make it regular\n",
    "import numpy as np\n",
    "from numpy.linalg import matrix_power\n",
    "\n",
    "M = np.array([\n",
    "    [0,0,0,1/3,0,0,0,0,1/3],\n",
    "    [1/4,0,0,0,0,0,0,0,1/3],\n",
    "    [1/4,1/3,0,0,0,1/3,0,0,0],\n",
    "    [0,0,1/3,0,0,0,0,1/2,0],\n",
    "    [1/4,1/3,0,1/3,0,0,0,0,1/3],\n",
    "    [0,0,0,0,1/2,0,0,0,0],\n",
    "    [1/4,1/3,0,1/3,0,1/3,0,0,0],\n",
    "    [0,0,1/3,0,1/2,0,1,0,0],\n",
    "    [0,0,1/3,0,0,1/3,0,1/2,0]], float)\n",
    "\n",
    "for i in range(10):\n",
    "    if matrix_power(M, i).all() > 0.0:\n",
    "        print(f\"M is regular when k = {i}\")\n",
    "    else:\n",
    "        pass"
   ]
  },
  {
   "cell_type": "markdown",
   "id": "978aa465",
   "metadata": {},
   "source": [
    "### Q4:\n",
    "\n",
    "I will now choose an initial probability vector, $x$, and find which steady-state vector it converges to using a for loop. "
   ]
  },
  {
   "cell_type": "code",
   "execution_count": 114,
   "id": "62cbf488",
   "metadata": {},
   "outputs": [
    {
     "name": "stdout",
     "output_type": "stream",
     "text": [
      "The steady state vector is: \n",
      "\n",
      "[[0.08857005]\n",
      " [0.07015245]\n",
      " [0.06787611]\n",
      " [0.12168035]\n",
      " [0.13409671]\n",
      " [0.06704835]\n",
      " [0.10843623]\n",
      " [0.19810995]\n",
      " [0.1440298 ]] \n",
      "\n",
      "k = 125\n"
     ]
    }
   ],
   "source": [
    "# Using the same matrix, M, a steady state vector is found by using a for loop\n",
    "# Initial vector, x0\n",
    "x0 = np.array([\n",
    "    [1],\n",
    "    [0],\n",
    "    [0],\n",
    "    [0],\n",
    "    [0],\n",
    "    [0],\n",
    "    [0],\n",
    "    [0],\n",
    "    [0]\n",
    "], float)\n",
    "\n",
    "for i in range(1000):\n",
    "    # Another vector to store the previous values\n",
    "    x_last = x0\n",
    "    x0 = M.dot(x0)\n",
    "    if (x0 - x_last == 0.0).all():\n",
    "        print(f\"The steady state vector is: \\n\\n{x0} \\n\\nk = {i + 1}\")\n",
    "        break"
   ]
  },
  {
   "cell_type": "markdown",
   "id": "9f03961d",
   "metadata": {},
   "source": [
    "### Q5:\n",
    "\n",
    "Next, I rank the websites in order from most likely to be visited to least likely based on the steady-state vector that I found in the previous question."
   ]
  },
  {
   "cell_type": "code",
   "execution_count": 148,
   "id": "4e0216ed",
   "metadata": {},
   "outputs": [
    {
     "name": "stdout",
     "output_type": "stream",
     "text": [
      "The websites in descending order according to rank are \n",
      "\n",
      "W8: 19.81 %\n",
      "W9: 14.40 %\n",
      "W5: 13.41 %\n",
      "W4: 12.17 %\n",
      "W7: 10.84 %\n",
      "W1: 8.86 %\n",
      "W2: 7.02 %\n",
      "W3: 6.79 %\n",
      "W6: 6.70 %\n"
     ]
    }
   ],
   "source": [
    "# Nicely prints the order of most likely to visit websites - rankings\n",
    "webpages = {\n",
    "    'W1': 1,\n",
    "    'W2': 2,\n",
    "    'W3': 3,\n",
    "    'W4': 4,\n",
    "    'W5': 5,\n",
    "    'W6': 6,\n",
    "    'W7': 7,\n",
    "    'W8': 8,\n",
    "    'W9': 9,\n",
    "}\n",
    "\n",
    "i = 1\n",
    "for num in x0:\n",
    "    webpages[f\"W{i}\"] = num.item()\n",
    "    i += 1\n",
    "    \n",
    "ranks = sorted(webpages, key = webpages.get, reverse=True)\n",
    "\n",
    "print(\"The websites in descending order according to rank are \\n\")\n",
    "for key in ranks:\n",
    "    print(f\"{key}: {webpages[key] * 100:.2f} %\")"
   ]
  },
  {
   "cell_type": "markdown",
   "id": "cf8e5606",
   "metadata": {},
   "source": [
    "### Q6:\n",
    "\n",
    "Power method will be used to find the largest eigenvalue of a matrix, A, along with its corresponding eigenvector."
   ]
  },
  {
   "cell_type": "code",
   "execution_count": 153,
   "id": "d96d7f04",
   "metadata": {},
   "outputs": [
    {
     "name": "stdout",
     "output_type": "stream",
     "text": [
      "1.0\n",
      "0.1\n",
      "0.03773584905660377\n",
      "0.03272817092750401\n",
      "0.032980998350339095\n",
      "0.03301127268302227\n",
      "0.03301507567581197\n",
      "0.03301555861149938\n",
      "0.033015620085056624\n",
      "0.03301562791418614\n"
     ]
    },
    {
     "data": {
      "text/plain": [
       "[array([[1.],\n",
       "        [0.],\n",
       "        [0.],\n",
       "        [0.]]),\n",
       " array([[10.],\n",
       "        [ 7.],\n",
       "        [ 8.],\n",
       "        [ 7.]]),\n",
       " array([[26.2],\n",
       "        [18.8],\n",
       "        [26.5],\n",
       "        [24.7]]),\n",
       " array([[29.37735849],\n",
       "        [21.12830189],\n",
       "        [30.55471698],\n",
       "        [28.78867925]]),\n",
       " array([[29.05051254],\n",
       "        [20.89872792],\n",
       "        [30.32048907],\n",
       "        [28.609732  ]]),\n",
       " array([[29.01101811],\n",
       "        [20.87099652],\n",
       "        [30.29268243],\n",
       "        [28.58888414]]),\n",
       " array([[29.00604154],\n",
       "        [20.86750244],\n",
       "        [30.28919303],\n",
       "        [28.58627969]]),\n",
       " array([[29.00540908],\n",
       "        [20.86705839],\n",
       "        [30.28874997],\n",
       "        [28.58594933]]),\n",
       " array([[29.00532856],\n",
       "        [20.86700186],\n",
       "        [30.28869358],\n",
       "        [28.58590729]]),\n",
       " array([[29.00531831],\n",
       "        [20.86699466],\n",
       "        [30.28868639],\n",
       "        [28.58590194]]),\n",
       " array([[29.005317  ],\n",
       "        [20.86699374],\n",
       "        [30.28868548],\n",
       "        [28.58590125]])]"
      ]
     },
     "execution_count": 153,
     "metadata": {},
     "output_type": "execute_result"
    }
   ],
   "source": [
    "# Power method to find the max eigenvalue along with its corresponding eigenvector\n",
    "A = np.array([\n",
    "    [10, 7, 8, 7],\n",
    "    [7, 5, 6, 5],\n",
    "    [8, 6, 10, 9],\n",
    "    [7, 5, 9, 10]\n",
    "], float)\n",
    "\n",
    "x = [np.array([\n",
    "    [1],\n",
    "    [0],\n",
    "    [0],\n",
    "    [0]\n",
    "], float)]\n",
    "\n",
    "for i in range(100):\n",
    "    x.append(1 / np.max(np.abs(x[-1])) * A.dot(x[-1]))\n",
    "    \n",
    "    if (x[-2] - x[-1] == 0.0).all():\n",
    "        print(f\"Stopped at iteration #{i + 1} | Eigenvalue: {np.max(np.abs(x[-1])):.3f}\")\n",
    "        print(f\"Eigenvector corresponding to the eigenvalue: \\n{1 / np.max(np.abs(x[-1])) * x[-1]}\")"
   ]
  },
  {
   "cell_type": "code",
   "execution_count": null,
   "id": "251b9528",
   "metadata": {},
   "outputs": [],
   "source": []
  }
 ],
 "metadata": {
  "kernelspec": {
   "display_name": "Python 3 (ipykernel)",
   "language": "python",
   "name": "python3"
  },
  "language_info": {
   "codemirror_mode": {
    "name": "ipython",
    "version": 3
   },
   "file_extension": ".py",
   "mimetype": "text/x-python",
   "name": "python",
   "nbconvert_exporter": "python",
   "pygments_lexer": "ipython3",
   "version": "3.10.11"
  }
 },
 "nbformat": 4,
 "nbformat_minor": 5
}
