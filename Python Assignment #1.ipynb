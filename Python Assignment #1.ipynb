{
 "cells": [
  {
   "cell_type": "markdown",
   "id": "02573074",
   "metadata": {},
   "source": [
    "Logan Wright\n",
    "\n",
    "Brother Sinkovic\n",
    "\n",
    "# Python Assignment 1\n",
    "\n",
    "# Part I\n",
    "\n",
    "# Question 1\n",
    "\n",
    "I will write some code to build a matrix, $A$, and write a corresponding command to print the $i^{th}$ entry of the $j^{th}$ column of $A$."
   ]
  },
  {
   "cell_type": "code",
   "execution_count": 6,
   "id": "3f5d6689",
   "metadata": {},
   "outputs": [
    {
     "name": "stdout",
     "output_type": "stream",
     "text": [
      "[[1. 2. 3.]\n",
      " [4. 5. 6.]\n",
      " [7. 8. 9.]\n",
      " [2. 4. 6.]]\n",
      "\n",
      "A @ position (4, 2): 4.0\n"
     ]
    }
   ],
   "source": [
    "from numpy import array\n",
    "\n",
    "A = array([[1, 2, 3], [4, 5, 6], [7, 8, 9], [2, 4, 6]], dtype = float)\n",
    "\n",
    "print(A)\n",
    "print(f\"\\nA @ position (4, 2): {A[3, 1]}\")"
   ]
  },
  {
   "cell_type": "markdown",
   "id": "01fc93f5",
   "metadata": {},
   "source": [
    "## Question 2\n",
    "\n",
    "A new row is entered into the matrix $A$ as it replaces the values that were in row 3."
   ]
  },
  {
   "cell_type": "code",
   "execution_count": 4,
   "id": "7de2f065",
   "metadata": {},
   "outputs": [
    {
     "name": "stdout",
     "output_type": "stream",
     "text": [
      "[[ 1.  2.  3.]\n",
      " [ 4.  5.  6.]\n",
      " [ 7.  8. 10.]\n",
      " [ 2.  4.  6.]]\n"
     ]
    }
   ],
   "source": [
    "A[2] = [7, 8, 10]\n",
    "\n",
    "print(A)"
   ]
  },
  {
   "cell_type": "markdown",
   "id": "971e8baa",
   "metadata": {},
   "source": [
    "## Question 3\n",
    "\n",
    "In the following lines of code, we do the following things to $A$\n",
    "\n",
    "1. $R_2 + (- 4 R_1)$\n",
    "\n",
    "2. $R_3 + (- 7 R_1)$\n",
    "\n",
    "3. $R_3 + \\left(- \\frac{8}{5} R_2 \\right)$"
   ]
  },
  {
   "cell_type": "code",
   "execution_count": 13,
   "id": "27993e29",
   "metadata": {},
   "outputs": [
    {
     "name": "stdout",
     "output_type": "stream",
     "text": [
      "[[1. 2. 3.]\n",
      " [4. 5. 6.]\n",
      " [7. 8. 9.]]\n",
      "\n",
      "[[  1.   2.   3.]\n",
      " [  0.  -3.  -6.]\n",
      " [  0.  -6. -12.]]\n",
      "\n",
      "[[ 1.  2.  3.]\n",
      " [ 0. -3. -6.]\n",
      " [ 0.  0.  0.]]\n"
     ]
    }
   ],
   "source": [
    "A = array([[1,2,3],[4,5,6],[7,8,9]], float)\n",
    "print(A)\n",
    "print()\n",
    "\n",
    "A[1] = A[1] + A[0] * (-A[1,0])\n",
    "A[2] = A[2] + A[0] * (-A[2,0])\n",
    "print(A)\n",
    "print()\n",
    "\n",
    "A[2] = A[2] + A[1] * (-A[2,1] / A[1,1])\n",
    "print(A)"
   ]
  },
  {
   "cell_type": "markdown",
   "id": "54a01f0f",
   "metadata": {},
   "source": [
    "## Question 4\n",
    "\n",
    "Now, I will use the NumPy linear algebra solve function to solve a basic equation $Ax = b$."
   ]
  },
  {
   "cell_type": "code",
   "execution_count": 14,
   "id": "661777ee",
   "metadata": {},
   "outputs": [
    {
     "name": "stdout",
     "output_type": "stream",
     "text": [
      "The solution to Ax = b\n",
      "\n",
      "[[-14.66666667]\n",
      " [ 35.33333333]\n",
      " [-19.        ]]\n"
     ]
    }
   ],
   "source": [
    "from numpy.linalg import solve\n",
    "\n",
    "A = array([[1, 2, 3], [4, 5, 6], [7, 8, 10]], dtype = float)\n",
    "b = array([[-1], [4], [-10]], dtype = float)\n",
    "\n",
    "print(\"The solution to Ax = b\\n\")\n",
    "\n",
    "print(solve(A, b))"
   ]
  },
  {
   "cell_type": "markdown",
   "id": "09d9d161",
   "metadata": {},
   "source": [
    "## Question 5\n",
    "\n",
    "Now, I experiment with the NumPy matrix multiplication tool called \"matmul\". I will compute $A A^T$ for the test."
   ]
  },
  {
   "cell_type": "code",
   "execution_count": 17,
   "id": "10ed609a",
   "metadata": {},
   "outputs": [
    {
     "name": "stdout",
     "output_type": "stream",
     "text": [
      "A A^T\n",
      "\n",
      "[[ 14.  32.  53.]\n",
      " [ 32.  77. 128.]\n",
      " [ 53. 128. 213.]]\n",
      "Intel MKL WARNING: Support of Intel(R) Streaming SIMD Extensions 4.2 (Intel(R) SSE4.2) enabled only processors has been deprecated. Intel oneAPI Math Kernel Library 2025.0 will require Intel(R) Advanced Vector Extensions (Intel(R) AVX) instructions.\n"
     ]
    }
   ],
   "source": [
    "from numpy import matmul\n",
    "\n",
    "print(f\"A A^T\\n\")\n",
    "print(matmul(A, A.transpose()))"
   ]
  },
  {
   "cell_type": "markdown",
   "id": "80d045e4",
   "metadata": {},
   "source": [
    "## Question 6\n",
    "\n",
    "Now, I will use the NumPy matrix inverse function to compute the same $Ax = b$ problem as above but instead by saying that $x = A^{-1} b$."
   ]
  },
  {
   "cell_type": "code",
   "execution_count": 20,
   "id": "7f7d3994",
   "metadata": {},
   "outputs": [
    {
     "name": "stdout",
     "output_type": "stream",
     "text": [
      "The inverse of A\n",
      "\n",
      "[[-0.66666667 -1.33333333  1.        ]\n",
      " [-0.66666667  3.66666667 -2.        ]\n",
      " [ 1.         -2.          1.        ]]\n",
      "\n",
      "The solution to Ax = b:\n",
      "\n",
      "[[-14.66666667]\n",
      " [ 35.33333333]\n",
      " [-19.        ]]\n"
     ]
    }
   ],
   "source": [
    "from numpy.linalg import inv\n",
    "\n",
    "A_inverse = inv(A)\n",
    "\n",
    "print(\"The inverse of A\\n\")\n",
    "print(A_inverse)\n",
    "\n",
    "print(f\"\\nThe solution to Ax = b:\\n\")\n",
    "print(matmul(A_inverse, b))"
   ]
  },
  {
   "cell_type": "markdown",
   "id": "e6ab3a9a",
   "metadata": {},
   "source": [
    "## Question 7\n",
    "\n",
    "Next, I solve the coefficients of an $5^{th}$ degree polynomial given the following points\n",
    "\n",
    "(1, 1)\n",
    "\n",
    "(10, 5)\n",
    "\n",
    "(−10, 6)\n",
    "\n",
    "(2, 100)\n",
    "\n",
    "(−2, −30)\n",
    "\n",
    "(−1, 60)"
   ]
  },
  {
   "cell_type": "code",
   "execution_count": 35,
   "id": "2d3abb68",
   "metadata": {},
   "outputs": [
    {
     "name": "stdout",
     "output_type": "stream",
     "text": [
      "Coefficient solutions to Ax = b\n",
      "\n",
      "[[-2.12179082e-01]\n",
      " [-1.82554714e-02]\n",
      " [ 2.17275621e+01]\n",
      " [ 1.59127736e+00]\n",
      " [-5.10153830e+01]\n",
      " [ 2.89269781e+01]]\n"
     ]
    }
   ],
   "source": [
    "# Make B a function to generate the rows of A\n",
    "B = lambda x: [x ** 5, x ** 4, x ** 3, x ** 2, x, 1]\n",
    "\n",
    "# Define the x values to range from\n",
    "x = [1, 10, -10, 2, -2, -1]\n",
    "\n",
    "# Make the A matrix and fill it\n",
    "A = []\n",
    "for i in range(6):\n",
    "    A.append(B(x[i]))\n",
    "\n",
    "# Convert A to an array\n",
    "A = array(A, dtype = float)\n",
    "\n",
    "# Define a new b vector based on the points defined above\n",
    "b = array([[1], [5], [6], [100], [-30], [60]], dtype = float)\n",
    "\n",
    "print(\"Coefficient solutions to Ax = b\\n\")\n",
    "print(solve(A, b))"
   ]
  },
  {
   "cell_type": "code",
   "execution_count": null,
   "id": "ed5b185c",
   "metadata": {},
   "outputs": [],
   "source": []
  }
 ],
 "metadata": {
  "kernelspec": {
   "display_name": "Python 3 (ipykernel)",
   "language": "python",
   "name": "python3"
  },
  "language_info": {
   "codemirror_mode": {
    "name": "ipython",
    "version": 3
   },
   "file_extension": ".py",
   "mimetype": "text/x-python",
   "name": "python",
   "nbconvert_exporter": "python",
   "pygments_lexer": "ipython3",
   "version": "3.10.11"
  }
 },
 "nbformat": 4,
 "nbformat_minor": 5
}
